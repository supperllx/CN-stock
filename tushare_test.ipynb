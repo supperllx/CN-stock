{
 "cells": [
  {
   "cell_type": "code",
   "execution_count": 36,
   "metadata": {},
   "outputs": [],
   "source": [
    "import numpy as np\n",
    "import pandas as pd\n",
    "import time\n",
    "import os\n",
    "import math\n",
    "import threading\n",
    "from concurrent import futures\n",
    "import tushare as ts"
   ]
  },
  {
   "cell_type": "code",
   "execution_count": 37,
   "metadata": {},
   "outputs": [
    {
     "name": "stdout",
     "output_type": "stream",
     "text": [
      "1.2.60\n"
     ]
    }
   ],
   "source": [
    "print(ts.__version__)\n",
    "pro = ts.pro_api()"
   ]
  },
  {
   "cell_type": "code",
   "execution_count": 38,
   "metadata": {},
   "outputs": [],
   "source": [
    "stock_list = pro.stock_basic(exchange='', list_status='L')"
   ]
  },
  {
   "cell_type": "code",
   "execution_count": 39,
   "metadata": {},
   "outputs": [
    {
     "data": {
      "text/plain": [
       "(3893, 7)"
      ]
     },
     "execution_count": 39,
     "metadata": {},
     "output_type": "execute_result"
    }
   ],
   "source": [
    "stock_list.shape"
   ]
  },
  {
   "cell_type": "code",
   "execution_count": 40,
   "metadata": {},
   "outputs": [
    {
     "data": {
      "text/plain": [
       "'000001.SZ'"
      ]
     },
     "execution_count": 40,
     "metadata": {},
     "output_type": "execute_result"
    }
   ],
   "source": [
    "total_stock_ts_code = list(stock_list['ts_code'])\n",
    "total_stock_ts_code[0]"
   ]
  },
  {
   "cell_type": "code",
   "execution_count": 41,
   "metadata": {},
   "outputs": [],
   "source": [
    "df = pro.daily(trade_date = '20200709')"
   ]
  },
  {
   "cell_type": "code",
   "execution_count": 42,
   "metadata": {},
   "outputs": [
    {
     "data": {
      "text/plain": [
       "(3856, 11)"
      ]
     },
     "execution_count": 42,
     "metadata": {},
     "output_type": "execute_result"
    }
   ],
   "source": [
    "df.shape"
   ]
  },
  {
   "cell_type": "code",
   "execution_count": 43,
   "metadata": {},
   "outputs": [
    {
     "name": "stdout",
     "output_type": "stream",
     "text": [
      "<class 'pandas.core.frame.DataFrame'>\n",
      "RangeIndex: 3856 entries, 0 to 3855\n",
      "Data columns (total 11 columns):\n",
      " #   Column      Non-Null Count  Dtype  \n",
      "---  ------      --------------  -----  \n",
      " 0   ts_code     3856 non-null   object \n",
      " 1   trade_date  3856 non-null   object \n",
      " 2   open        3856 non-null   float64\n",
      " 3   high        3856 non-null   float64\n",
      " 4   low         3856 non-null   float64\n",
      " 5   close       3856 non-null   float64\n",
      " 6   pre_close   3856 non-null   float64\n",
      " 7   change      3856 non-null   float64\n",
      " 8   pct_chg     3856 non-null   float64\n",
      " 9   vol         3856 non-null   float64\n",
      " 10  amount      3856 non-null   float64\n",
      "dtypes: float64(9), object(2)\n",
      "memory usage: 331.5+ KB\n"
     ]
    }
   ],
   "source": [
    "df.info()"
   ]
  },
  {
   "cell_type": "code",
   "execution_count": 44,
   "metadata": {},
   "outputs": [],
   "source": [
    "total_hist = pro.daily(ts_code='000001.SZ', start_date='20040101', end_date='20200711')"
   ]
  },
  {
   "cell_type": "code",
   "execution_count": 45,
   "metadata": {},
   "outputs": [
    {
     "data": {
      "text/html": [
       "<div>\n",
       "<style scoped>\n",
       "    .dataframe tbody tr th:only-of-type {\n",
       "        vertical-align: middle;\n",
       "    }\n",
       "\n",
       "    .dataframe tbody tr th {\n",
       "        vertical-align: top;\n",
       "    }\n",
       "\n",
       "    .dataframe thead th {\n",
       "        text-align: right;\n",
       "    }\n",
       "</style>\n",
       "<table border=\"1\" class=\"dataframe\">\n",
       "  <thead>\n",
       "    <tr style=\"text-align: right;\">\n",
       "      <th></th>\n",
       "      <th>ts_code</th>\n",
       "      <th>trade_date</th>\n",
       "      <th>open</th>\n",
       "      <th>high</th>\n",
       "      <th>low</th>\n",
       "      <th>close</th>\n",
       "      <th>pre_close</th>\n",
       "      <th>change</th>\n",
       "      <th>pct_chg</th>\n",
       "      <th>vol</th>\n",
       "      <th>amount</th>\n",
       "    </tr>\n",
       "  </thead>\n",
       "  <tbody>\n",
       "    <tr>\n",
       "      <th>3863</th>\n",
       "      <td>000001.SZ</td>\n",
       "      <td>20040102</td>\n",
       "      <td>8.51</td>\n",
       "      <td>8.65</td>\n",
       "      <td>8.41</td>\n",
       "      <td>8.64</td>\n",
       "      <td>8.51</td>\n",
       "      <td>0.13</td>\n",
       "      <td>1.5300</td>\n",
       "      <td>58047.80</td>\n",
       "      <td>4.963405e+04</td>\n",
       "    </tr>\n",
       "    <tr>\n",
       "      <th>3862</th>\n",
       "      <td>000001.SZ</td>\n",
       "      <td>20040105</td>\n",
       "      <td>8.64</td>\n",
       "      <td>8.98</td>\n",
       "      <td>8.60</td>\n",
       "      <td>8.92</td>\n",
       "      <td>8.64</td>\n",
       "      <td>0.28</td>\n",
       "      <td>3.2400</td>\n",
       "      <td>120577.77</td>\n",
       "      <td>1.065291e+05</td>\n",
       "    </tr>\n",
       "    <tr>\n",
       "      <th>3861</th>\n",
       "      <td>000001.SZ</td>\n",
       "      <td>20040106</td>\n",
       "      <td>9.00</td>\n",
       "      <td>9.55</td>\n",
       "      <td>9.00</td>\n",
       "      <td>9.33</td>\n",
       "      <td>8.92</td>\n",
       "      <td>0.41</td>\n",
       "      <td>4.6000</td>\n",
       "      <td>375917.45</td>\n",
       "      <td>3.515232e+05</td>\n",
       "    </tr>\n",
       "    <tr>\n",
       "      <th>3860</th>\n",
       "      <td>000001.SZ</td>\n",
       "      <td>20040107</td>\n",
       "      <td>9.33</td>\n",
       "      <td>9.53</td>\n",
       "      <td>9.25</td>\n",
       "      <td>9.39</td>\n",
       "      <td>9.33</td>\n",
       "      <td>0.06</td>\n",
       "      <td>0.6400</td>\n",
       "      <td>195362.44</td>\n",
       "      <td>1.834584e+05</td>\n",
       "    </tr>\n",
       "    <tr>\n",
       "      <th>3859</th>\n",
       "      <td>000001.SZ</td>\n",
       "      <td>20040108</td>\n",
       "      <td>9.40</td>\n",
       "      <td>9.47</td>\n",
       "      <td>9.23</td>\n",
       "      <td>9.41</td>\n",
       "      <td>9.39</td>\n",
       "      <td>0.02</td>\n",
       "      <td>0.2100</td>\n",
       "      <td>127015.27</td>\n",
       "      <td>1.184990e+05</td>\n",
       "    </tr>\n",
       "    <tr>\n",
       "      <th>...</th>\n",
       "      <td>...</td>\n",
       "      <td>...</td>\n",
       "      <td>...</td>\n",
       "      <td>...</td>\n",
       "      <td>...</td>\n",
       "      <td>...</td>\n",
       "      <td>...</td>\n",
       "      <td>...</td>\n",
       "      <td>...</td>\n",
       "      <td>...</td>\n",
       "      <td>...</td>\n",
       "    </tr>\n",
       "    <tr>\n",
       "      <th>4</th>\n",
       "      <td>000001.SZ</td>\n",
       "      <td>20200706</td>\n",
       "      <td>14.60</td>\n",
       "      <td>15.68</td>\n",
       "      <td>14.59</td>\n",
       "      <td>15.68</td>\n",
       "      <td>14.25</td>\n",
       "      <td>1.43</td>\n",
       "      <td>10.0351</td>\n",
       "      <td>4711460.78</td>\n",
       "      <td>7.168653e+06</td>\n",
       "    </tr>\n",
       "    <tr>\n",
       "      <th>3</th>\n",
       "      <td>000001.SZ</td>\n",
       "      <td>20200707</td>\n",
       "      <td>16.30</td>\n",
       "      <td>16.63</td>\n",
       "      <td>15.03</td>\n",
       "      <td>15.48</td>\n",
       "      <td>15.68</td>\n",
       "      <td>-0.20</td>\n",
       "      <td>-1.2755</td>\n",
       "      <td>3964427.47</td>\n",
       "      <td>6.267920e+06</td>\n",
       "    </tr>\n",
       "    <tr>\n",
       "      <th>2</th>\n",
       "      <td>000001.SZ</td>\n",
       "      <td>20200708</td>\n",
       "      <td>15.23</td>\n",
       "      <td>16.00</td>\n",
       "      <td>15.23</td>\n",
       "      <td>15.76</td>\n",
       "      <td>15.48</td>\n",
       "      <td>0.28</td>\n",
       "      <td>1.8088</td>\n",
       "      <td>2631339.16</td>\n",
       "      <td>4.095448e+06</td>\n",
       "    </tr>\n",
       "    <tr>\n",
       "      <th>1</th>\n",
       "      <td>000001.SZ</td>\n",
       "      <td>20200709</td>\n",
       "      <td>15.66</td>\n",
       "      <td>15.66</td>\n",
       "      <td>15.31</td>\n",
       "      <td>15.53</td>\n",
       "      <td>15.76</td>\n",
       "      <td>-0.23</td>\n",
       "      <td>-1.4594</td>\n",
       "      <td>2243994.40</td>\n",
       "      <td>3.469517e+06</td>\n",
       "    </tr>\n",
       "    <tr>\n",
       "      <th>0</th>\n",
       "      <td>000001.SZ</td>\n",
       "      <td>20200710</td>\n",
       "      <td>15.35</td>\n",
       "      <td>15.48</td>\n",
       "      <td>14.76</td>\n",
       "      <td>14.86</td>\n",
       "      <td>15.53</td>\n",
       "      <td>-0.67</td>\n",
       "      <td>-4.3142</td>\n",
       "      <td>2158773.26</td>\n",
       "      <td>3.254272e+06</td>\n",
       "    </tr>\n",
       "  </tbody>\n",
       "</table>\n",
       "<p>3864 rows × 11 columns</p>\n",
       "</div>"
      ],
      "text/plain": [
       "        ts_code trade_date   open   high    low  close  pre_close  change  \\\n",
       "3863  000001.SZ   20040102   8.51   8.65   8.41   8.64       8.51    0.13   \n",
       "3862  000001.SZ   20040105   8.64   8.98   8.60   8.92       8.64    0.28   \n",
       "3861  000001.SZ   20040106   9.00   9.55   9.00   9.33       8.92    0.41   \n",
       "3860  000001.SZ   20040107   9.33   9.53   9.25   9.39       9.33    0.06   \n",
       "3859  000001.SZ   20040108   9.40   9.47   9.23   9.41       9.39    0.02   \n",
       "...         ...        ...    ...    ...    ...    ...        ...     ...   \n",
       "4     000001.SZ   20200706  14.60  15.68  14.59  15.68      14.25    1.43   \n",
       "3     000001.SZ   20200707  16.30  16.63  15.03  15.48      15.68   -0.20   \n",
       "2     000001.SZ   20200708  15.23  16.00  15.23  15.76      15.48    0.28   \n",
       "1     000001.SZ   20200709  15.66  15.66  15.31  15.53      15.76   -0.23   \n",
       "0     000001.SZ   20200710  15.35  15.48  14.76  14.86      15.53   -0.67   \n",
       "\n",
       "      pct_chg         vol        amount  \n",
       "3863   1.5300    58047.80  4.963405e+04  \n",
       "3862   3.2400   120577.77  1.065291e+05  \n",
       "3861   4.6000   375917.45  3.515232e+05  \n",
       "3860   0.6400   195362.44  1.834584e+05  \n",
       "3859   0.2100   127015.27  1.184990e+05  \n",
       "...       ...         ...           ...  \n",
       "4     10.0351  4711460.78  7.168653e+06  \n",
       "3     -1.2755  3964427.47  6.267920e+06  \n",
       "2      1.8088  2631339.16  4.095448e+06  \n",
       "1     -1.4594  2243994.40  3.469517e+06  \n",
       "0     -4.3142  2158773.26  3.254272e+06  \n",
       "\n",
       "[3864 rows x 11 columns]"
      ]
     },
     "execution_count": 45,
     "metadata": {},
     "output_type": "execute_result"
    }
   ],
   "source": [
    "total_hist.sort_values(by=['trade_date'], inplace=True)\n",
    "total_hist"
   ]
  },
  {
   "cell_type": "code",
   "execution_count": 46,
   "metadata": {},
   "outputs": [
    {
     "data": {
      "text/plain": [
       "3893"
      ]
     },
     "execution_count": 46,
     "metadata": {},
     "output_type": "execute_result"
    }
   ],
   "source": [
    "stock_list.iloc[0]['ts_code']\n",
    "len(stock_list)"
   ]
  },
  {
   "cell_type": "code",
   "execution_count": 47,
   "metadata": {},
   "outputs": [
    {
     "data": {
      "text/plain": [
       "'000001.SZ'"
      ]
     },
     "execution_count": 47,
     "metadata": {},
     "output_type": "execute_result"
    }
   ],
   "source": [
    "stock_list['ts_code'][0]"
   ]
  },
  {
   "cell_type": "code",
   "execution_count": 48,
   "metadata": {},
   "outputs": [],
   "source": [
    "# def get_single_daily(single_ts_code):\n",
    "#     return pro.daily(ts_code=single_ts_code, start_date='20040101', end_date='20200711').sort_values(by=['trade_date'])\n",
    "\n",
    "# def get_monthly_add(single_ts_code):\n",
    "#     df_monthly_add = ts.pro_bar(ts_code=single_ts_code, adj='hfq', start_date='20040101', end_date='20200718', freq='M', adjfactor=True, ma=[2, 4])\n",
    "#     return df_monthly_add\n",
    "\n",
    "# total_daily = pd.DataFrame()\n",
    "# n_stock = len(stock_list)\n",
    "# s_pool = []\n",
    "# res = []\n",
    "# i_finish = 0\n",
    "\n",
    "# with futures.ThreadPoolExecutor(max_workers = 3) as executor:\n",
    "# #     for single_ts_code in stock_list['ts_code']:\n",
    "# #         s_pool.append(executor.submit(get_single_daily, single_ts_code))\n",
    "        \n",
    "# #     for t in s_pool:\n",
    "# #         if(t.done()):\n",
    "# #             res.append(t.result())\n",
    "# #             i+=1\n",
    "# #             print(\"{0}% finished, i = {1} \".format(round(i*100/n_stock), i), end=\"\\r\")\n",
    "\n",
    "# ######################################\n",
    "\n",
    "# #     s_pool = {executor.submit(get_single_daily, single_ts_code): single_ts_code for single_ts_code in stock_list['ts_code']}\n",
    "    \n",
    "# #     for future in futures.as_completed(s_pool):\n",
    "# #         res.append(future.result())\n",
    "# #         i_finish+=1\n",
    "# #         print(\"{0}% finished, i = {1} \".format(round(i_finish*100/n_stock), i_finish), end=\"\\r\")\n",
    "\n",
    "# ######################################\n",
    "# #     res = list(executor.map(get_single_daily, stock_list['ts_code']))\n",
    "    \n",
    "# #     while(len(res)<n_stock):\n",
    "# #         i_finish = len(res)\n",
    "# #         print(\"{0}% finished, i = {1} \".format(round(i_finish*100/n_stock), i_finish), end=\"\\r\")\n",
    "\n",
    "# ######################################\n",
    "    \n",
    "#     s_pool = {executor.submit(get_monthly_add, single_ts_code): single_ts_code for single_ts_code in stock_list['ts_code']}\n",
    "    \n",
    "#     for future in futures.as_completed(s_pool):\n",
    "# #         res.append(future.result())\n",
    "#         total_daily = total_daily.append(future.result(), ignore_index = True)\n",
    "#         i_finish+=1\n",
    "#         print(\"{0}% finished, i = {1} \".format(round(i_finish*100/n_stock), i_finish), end=\"\\r\")\n",
    "\n",
    "        \n",
    "# total_daily.shape"
   ]
  },
  {
   "cell_type": "code",
   "execution_count": 49,
   "metadata": {},
   "outputs": [
    {
     "name": "stdout",
     "output_type": "stream",
     "text": [
      "ready\n"
     ]
    }
   ],
   "source": [
    "def get_monthly_add(single_ts_code):\n",
    "    df_monthly_add = ts.pro_bar(ts_code=single_ts_code, adj='hfq', start_date='20040101', end_date='20200718', freq='M', adjfactor=True, ma=[2, 4])\n",
    "    with df_stock:\n",
    "        global total_daily\n",
    "        global total_finished\n",
    "        pd.concat([total_daily, df_monthly_add], ingore_index = True)\n",
    "        total_finished+=1\n",
    "        print(\"{0}% finished, i = {1} \".format(round(total_finished*100/n_stock), total_finished), end=\"\\r\")\n",
    "        \n",
    "class mTh(threading.Thread):\n",
    "    def __init__(self, th_name, gl_lock, task_ts_code):\n",
    "        threading.Thread.__init__(self, name = th_name)\n",
    "        self.name = th_name\n",
    "        self.lock = gl_lock\n",
    "        self.task = task_ts_code\n",
    "        print(\"{0} is created\".format(self.name))\n",
    "        \n",
    "    def run(self):\n",
    "        global total_daily\n",
    "        global total_finished\n",
    "        global n_stock\n",
    "        global total_stock_ts_code\n",
    "        \n",
    "        for single_ts_code in self.task:\n",
    "            df_single_add = ts.pro_bar(ts_code=single_ts_code, adj='hfq', start_date='20040101', end_date='20200718', adjfactor=True, ma=[2, 4])\n",
    "            with self.lock:\n",
    "                total_daily = pd.concat([total_daily, df_single_add], ignore_index = True)\n",
    "                total_finished+=1\n",
    "                print(\"{0} report: {1}% finished, i = {2} \".format(self.name, round(total_finished*100/n_stock), total_finished), end=\"\\r\")\n",
    "#             time.sleep(0.1)\n",
    "        print(\"{0} has finished. \".format(self.name))\n",
    "        \n",
    "print(\"ready\")"
   ]
  },
  {
   "cell_type": "code",
   "execution_count": 50,
   "metadata": {},
   "outputs": [
    {
     "name": "stdout",
     "output_type": "stream",
     "text": [
      "t0 is created\n",
      "t1 is created\n",
      "t2 is created\n",
      "t3 is created\n",
      "t4 is created\n",
      "t5 is created\n",
      "t6 is created\n",
      "t7 is created\n",
      "t8 is created\n",
      "t9 is created\n",
      "t10 is created\n",
      "t11 is created\n",
      "t12 is created\n",
      "t13 is created\n",
      "t14 is created\n",
      "t15 is created\n",
      "t16 is created\n",
      "t17 is created\n",
      "t18 is created\n",
      "t19 is created\n",
      "t19 has finished. nished, i = 2642 \n",
      "t10 has finished. nished, i = 3046 \n",
      "t18 has finished. nished, i = 3047 \n",
      "t17 has finished. nished, i = 3082 \n",
      "t6 has finished. nished, i = 3153  \n",
      "t9 has finished. nished, i = 3329  \n",
      "t11 has finished. nished, i = 3342 \n",
      "t7 has finished. nished, i = 3424  \n",
      "t16 has finished. nished, i = 3461 \n",
      "t8 has finished. nished, i = 3617  \n",
      "t5 has finished. nished, i = 3621  \n",
      "t4 has finished. nished, i = 3680  \n",
      "t15 has finished. nished, i = 3781 \n",
      "t3 has finished. nished, i = 3799  \n",
      "t2 has finished. nished, i = 3873  \n",
      "t0 has finished. inished, i = 3874 \n",
      "t12 has finished. inished, i = 3887 \n",
      "t1 has finished. inished, i = 3888 \n",
      "t14 has finished. inished, i = 3891 \n",
      "t13 has finished. inished, i = 3893 \n",
      "done\n"
     ]
    }
   ],
   "source": [
    "total_daily = pd.DataFrame()\n",
    "n_stock = len(stock_list)\n",
    "total_finished = 0\n",
    "gl_lock = threading.Lock()\n",
    "th_pool = []\n",
    "\n",
    "max_n_th = 20\n",
    "interval = int(math.ceil(len(total_stock_ts_code) / float(max_n_th)))\n",
    "total_task = [total_stock_ts_code[i:i+interval] for i in range(0, len(total_stock_ts_code), interval)]\n",
    "\n",
    "for i in range(max_n_th):\n",
    "    task = total_task[i]\n",
    "    t = mTh(\"t{0}\".format(i), gl_lock, task)\n",
    "    th_pool.append(t)\n",
    "    \n",
    "for t in th_pool:\n",
    "    t.start()\n",
    "    \n",
    "for t in th_pool:\n",
    "    t.join()\n",
    "        \n",
    "if(total_finished == n_stock):\n",
    "    print(\"done\")\n",
    "    \n",
    "else:\n",
    "    print(\"don't match\")\n",
    "    \n",
    "\n"
   ]
  },
  {
   "cell_type": "code",
   "execution_count": 53,
   "metadata": {},
   "outputs": [
    {
     "data": {
      "text/plain": [
       "(8608002, 16)"
      ]
     },
     "execution_count": 53,
     "metadata": {},
     "output_type": "execute_result"
    }
   ],
   "source": [
    "total_daily.shape"
   ]
  },
  {
   "cell_type": "code",
   "execution_count": 54,
   "metadata": {},
   "outputs": [
    {
     "name": "stdout",
     "output_type": "stream",
     "text": [
      "<class 'pandas.core.frame.DataFrame'>\n",
      "RangeIndex: 8608002 entries, 0 to 8608001\n",
      "Data columns (total 16 columns):\n",
      " #   Column      Dtype  \n",
      "---  ------      -----  \n",
      " 0   ts_code     object \n",
      " 1   trade_date  object \n",
      " 2   open        float64\n",
      " 3   high        float64\n",
      " 4   low         float64\n",
      " 5   close       float64\n",
      " 6   pre_close   float64\n",
      " 7   change      float64\n",
      " 8   pct_chg     float64\n",
      " 9   vol         float64\n",
      " 10  amount      float64\n",
      " 11  adj_factor  float64\n",
      " 12  ma2         float64\n",
      " 13  ma_v_2      float64\n",
      " 14  ma4         float64\n",
      " 15  ma_v_4      float64\n",
      "dtypes: float64(14), object(2)\n",
      "memory usage: 1.0+ GB\n"
     ]
    }
   ],
   "source": [
    "total_daily.info()"
   ]
  },
  {
   "cell_type": "code",
   "execution_count": null,
   "metadata": {},
   "outputs": [],
   "source": [
    "# total_daily = pd.DataFrame()\n",
    "# i = 1\n",
    "# n_stock = len(stock_list)\n",
    "\n",
    "# for ts_code_temp in stock_list['ts_code']:\n",
    "#     single_hist = pro.daily(ts_code=ts_code_temp, start_date='20040101', end_date='20200711').sort_values(by=['trade_date'], inplace=True)\n",
    "#     total_daily = total_daily.append(single_hist, ignore_index=True)\n",
    "#     print(\"{0}% finished, i = {1} \".format(round(i*100/n_stock), i), end=\"\\r\")\n",
    "#     i+=1\n",
    "#     #time.sleep(0.05)\n",
    "    \n",
    "# print(\"done\")"
   ]
  },
  {
   "cell_type": "code",
   "execution_count": 27,
   "metadata": {},
   "outputs": [
    {
     "name": "stdout",
     "output_type": "stream",
     "text": [
      "3893\n",
      "974\n",
      "974\n",
      "974\n",
      "971\n",
      "3893\n"
     ]
    }
   ],
   "source": [
    "l = list(total_stock_ts_code)\n",
    "print(len(l))\n",
    "m = 4\n",
    "n = int(math.ceil(len(l) / float(m)))\n",
    "res = [l[i:i+n] for i in range(0, len(l), n)]\n",
    "\n",
    "z = 0\n",
    "for i in res:\n",
    "    print(len(i))\n",
    "    z+= len(i)\n",
    "\n",
    "print(z)"
   ]
  },
  {
   "cell_type": "code",
   "execution_count": 30,
   "metadata": {},
   "outputs": [
    {
     "name": "stdout",
     "output_type": "stream",
     "text": [
      "done\n",
      "i = 1 \n",
      "i = 2 \n",
      "i = 3 \n",
      "i = 4 \n",
      "i = 5 \n",
      "i = 6 \n",
      "i = 7 \n",
      "i = 8 \n",
      "i = 9 \n",
      "i = 10 \n",
      "[(9, 10), (4, 5), (0, 1), (8, 9), (7, 8), (5, 6), (2, 3), (6, 7), (1, 2), (3, 4)]\n"
     ]
    }
   ],
   "source": [
    "def test_th(i_input):\n",
    "    i = i_input\n",
    "    i_input+=1\n",
    "    return (i, i_input)\n",
    "\n",
    "pool = []\n",
    "res = []\n",
    "i_finish = 0\n",
    "# for i in range(4):\n",
    "#     t = threading.Thread(target=test_th, args=(i, ))\n",
    "#     pool.append(t)\n",
    "#     t.start()\n",
    "\n",
    "# for t in pool:\n",
    "#     t.join()\n",
    "    \n",
    "# print(res)\n",
    "\n",
    "with futures.ThreadPoolExecutor(max_workers = 2) as executor:\n",
    "    t_pool = {executor.submit(test_th, i):i for i in range(10)}\n",
    "    \n",
    "    print('done')\n",
    "    for future in futures.as_completed(t_pool):\n",
    "        res.append(future.result())\n",
    "        i_finish+=1\n",
    "        print(\"i = {0} \".format(i_finish))\n",
    "        \n",
    "print(res)"
   ]
  },
  {
   "cell_type": "code",
   "execution_count": 31,
   "metadata": {},
   "outputs": [],
   "source": [
    "def infi_run():\n",
    "    pid = os.getpid()\n",
    "    t_counts = 0\n",
    "    while True:\n",
    "        print(\"pid:{0} has been running for {1} s \".format(pid, t_counts) )\n",
    "        t_counts+=1\n",
    "\n",
    "class stoppableTh(threading.Thread):\n",
    "    def __init__(self, daemon=None):\n",
    "        super().__init__(daemon = daemon)\n",
    "        self.__is_running = True\n",
    "        self.daemon = daemon\n",
    "        \n",
    "    def terminate(self):\n",
    "        self.__is_running = False\n",
    "        \n",
    "    def run(self):\n",
    "        pid = os.getpid()\n",
    "        counts = 0\n",
    "        while self.__is_running:\n",
    "            print(\"pid:{0} has been running for {1} s \".format(pid, counts))\n",
    "            counts+=1\n",
    "            time.sleep(1)\n",
    "            \n",
    "def call_thread():\n",
    "    thread = stoppableTh()\n",
    "    thread.daemon = True\n",
    "    thread.start()\n",
    "    time.sleep(5)\n",
    "    thread.terminate()\n"
   ]
  }
 ],
 "metadata": {
  "kernelspec": {
   "display_name": "Python 3",
   "language": "python",
   "name": "python3"
  },
  "language_info": {
   "codemirror_mode": {
    "name": "ipython",
    "version": 3
   },
   "file_extension": ".py",
   "mimetype": "text/x-python",
   "name": "python",
   "nbconvert_exporter": "python",
   "pygments_lexer": "ipython3",
   "version": "3.7.6"
  }
 },
 "nbformat": 4,
 "nbformat_minor": 4
}
